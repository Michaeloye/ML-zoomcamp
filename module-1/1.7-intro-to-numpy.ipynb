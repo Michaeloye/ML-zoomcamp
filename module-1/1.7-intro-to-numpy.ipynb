{
 "cells": [
  {
   "cell_type": "markdown",
   "id": "64d0150e",
   "metadata": {},
   "source": [
    "## Importing Numpy"
   ]
  },
  {
   "cell_type": "code",
   "execution_count": 1,
   "id": "277e31eb",
   "metadata": {},
   "outputs": [],
   "source": [
    "import numpy as np"
   ]
  },
  {
   "cell_type": "markdown",
   "id": "6616cd87",
   "metadata": {},
   "source": [
    "## Creating Arrays"
   ]
  },
  {
   "cell_type": "markdown",
   "id": "bf10a495",
   "metadata": {},
   "source": [
    "### Creating Arrays with Zeros, Ones, or Constants"
   ]
  },
  {
   "cell_type": "code",
   "execution_count": 2,
   "id": "810c67af",
   "metadata": {},
   "outputs": [
    {
     "data": {
      "text/plain": [
       "array([3, 3, 3, 3, 3, 3, 3, 3, 3, 3])"
      ]
     },
     "execution_count": 2,
     "metadata": {},
     "output_type": "execute_result"
    }
   ],
   "source": [
    "zeroes_array = np.zeros(5)\n",
    "ones_array = np.ones(5)\n",
    "constant_array = np.full(10, 3)\n",
    "\n",
    "constant_array"
   ]
  },
  {
   "cell_type": "markdown",
   "id": "0323fd03",
   "metadata": {},
   "source": [
    "### Converting Lists to Arrays"
   ]
  },
  {
   "cell_type": "code",
   "execution_count": 3,
   "id": "63e099ea",
   "metadata": {},
   "outputs": [
    {
     "data": {
      "text/plain": [
       "array([1, 2, 3, 4])"
      ]
     },
     "execution_count": 3,
     "metadata": {},
     "output_type": "execute_result"
    }
   ],
   "source": [
    "my_list = [1,2,3,4]\n",
    "np_array = np.array(my_list)\n",
    "np_array"
   ]
  },
  {
   "cell_type": "markdown",
   "id": "c03a28a4",
   "metadata": {},
   "source": [
    "### Generating Ranges of Numbers\n"
   ]
  },
  {
   "cell_type": "code",
   "execution_count": 4,
   "id": "df05bc63",
   "metadata": {},
   "outputs": [
    {
     "data": {
      "text/plain": [
       "array([0, 1, 2, 3, 4, 5, 6, 7, 8, 9])"
      ]
     },
     "execution_count": 4,
     "metadata": {},
     "output_type": "execute_result"
    }
   ],
   "source": [
    "range_array = np.arange(10) # arrary from 0 to 9\n",
    "range_array"
   ]
  },
  {
   "cell_type": "markdown",
   "id": "b6988c79",
   "metadata": {},
   "source": [
    "### Creating Arrays with Linear Spacing\n"
   ]
  },
  {
   "cell_type": "code",
   "execution_count": 5,
   "id": "9ecceb2b",
   "metadata": {},
   "outputs": [
    {
     "data": {
      "text/plain": [
       "array([ 1.  ,  3.25,  5.5 ,  7.75, 10.  ])"
      ]
     },
     "execution_count": 5,
     "metadata": {},
     "output_type": "execute_result"
    }
   ],
   "source": [
    "linespace_array = np.linspace(1, 10, 5)\n",
    "linespace_array"
   ]
  },
  {
   "cell_type": "markdown",
   "id": "bdb9c1ff",
   "metadata": {},
   "source": [
    "### Multi-dimensional Arrays\n"
   ]
  },
  {
   "cell_type": "code",
   "execution_count": 6,
   "id": "6e1cd14b",
   "metadata": {},
   "outputs": [
    {
     "data": {
      "text/plain": [
       "array([[2, 2],\n",
       "       [2, 2]])"
      ]
     },
     "execution_count": 6,
     "metadata": {},
     "output_type": "execute_result"
    }
   ],
   "source": [
    "zeroes_matrix = np.zeros((2, 2))\n",
    "ones_matrix = np.ones((2, 2))\n",
    "const_matrix = np.full((2, 2), 2)\n",
    "const_matrix\n"
   ]
  },
  {
   "cell_type": "markdown",
   "id": "60839100",
   "metadata": {},
   "source": [
    "### Indexing and Slicing Arrays\n"
   ]
  },
  {
   "cell_type": "code",
   "execution_count": 7,
   "id": "65184c18",
   "metadata": {},
   "outputs": [
    {
     "data": {
      "text/plain": [
       "array([1, 4])"
      ]
     },
     "execution_count": 7,
     "metadata": {},
     "output_type": "execute_result"
    }
   ],
   "source": [
    "arr = np.array([[1, 2, 3], [4, 5, 6]])\n",
    "first_row = arr[0]\n",
    "first_col = arr[:, 0]\n",
    "first_col"
   ]
  },
  {
   "cell_type": "markdown",
   "id": "f1e2dea6",
   "metadata": {},
   "source": [
    "### Generating Random Arrays\n"
   ]
  },
  {
   "cell_type": "code",
   "execution_count": 8,
   "id": "4b030996",
   "metadata": {},
   "outputs": [
    {
     "data": {
      "text/plain": [
       "array([[0.4359949 , 0.02592623],\n",
       "       [0.54966248, 0.43532239],\n",
       "       [0.4203678 , 0.33033482],\n",
       "       [0.20464863, 0.61927097],\n",
       "       [0.29965467, 0.26682728]])"
      ]
     },
     "execution_count": 8,
     "metadata": {},
     "output_type": "execute_result"
    }
   ],
   "source": [
    "np.random.seed(2)\n",
    "\n",
    "random_array = np.random.rand(5, 2)\n",
    "random_array"
   ]
  },
  {
   "cell_type": "code",
   "execution_count": 9,
   "id": "ecb97acd",
   "metadata": {},
   "outputs": [
    {
     "data": {
      "text/plain": [
       "array([[83, 31],\n",
       "       [66, 80],\n",
       "       [52, 76],\n",
       "       [50,  4],\n",
       "       [90, 63]])"
      ]
     },
     "execution_count": 9,
     "metadata": {},
     "output_type": "execute_result"
    }
   ],
   "source": [
    "normal_distribution = np.random.randn(5, 2)\n",
    "random_integers = np.random.randint(low=0, high=100, size=(5, 2))\n",
    "random_integers"
   ]
  },
  {
   "cell_type": "markdown",
   "id": "b7988ef7",
   "metadata": {},
   "source": [
    "## Array Operations\n"
   ]
  },
  {
   "cell_type": "markdown",
   "id": "fa9d6995",
   "metadata": {},
   "source": [
    "### Element-wise Operations"
   ]
  },
  {
   "cell_type": "code",
   "execution_count": 10,
   "id": "063a12cd",
   "metadata": {},
   "outputs": [
    {
     "data": {
      "text/plain": [
       "array([[2, 3, 4],\n",
       "       [5, 6, 7]])"
      ]
     },
     "execution_count": 10,
     "metadata": {},
     "output_type": "execute_result"
    }
   ],
   "source": [
    "arr + 1\n"
   ]
  },
  {
   "cell_type": "markdown",
   "id": "4485a7ea",
   "metadata": {},
   "source": [
    "### Element-wise Operations with Two Arrays\n"
   ]
  },
  {
   "cell_type": "code",
   "execution_count": 11,
   "id": "29d31b65",
   "metadata": {},
   "outputs": [
    {
     "data": {
      "text/plain": [
       "array([4., 4., 4., 4.])"
      ]
     },
     "execution_count": 11,
     "metadata": {},
     "output_type": "execute_result"
    }
   ],
   "source": [
    "arr1 = np.ones(4)\n",
    "arr2 = np.full(4, 3)\n",
    "result = arr1 + arr2\n",
    "result"
   ]
  },
  {
   "cell_type": "markdown",
   "id": "5290c0f6",
   "metadata": {},
   "source": [
    "### Comparison Operations"
   ]
  },
  {
   "cell_type": "code",
   "execution_count": 12,
   "id": "94ed0913",
   "metadata": {},
   "outputs": [
    {
     "data": {
      "text/plain": [
       "array([False, False,  True,  True])"
      ]
     },
     "execution_count": 12,
     "metadata": {},
     "output_type": "execute_result"
    }
   ],
   "source": [
    "arr = np.array([1, 2, 3, 4])\n",
    "greater_than_2 = arr > 2\n",
    "greater_than_2"
   ]
  },
  {
   "cell_type": "markdown",
   "id": "3ca3c1ef",
   "metadata": {},
   "source": [
    "### Selecting Elements Based on Conditions"
   ]
  },
  {
   "cell_type": "code",
   "execution_count": 13,
   "id": "609b692e",
   "metadata": {},
   "outputs": [
    {
     "data": {
      "text/plain": [
       "array([3, 4])"
      ]
     },
     "execution_count": 13,
     "metadata": {},
     "output_type": "execute_result"
    }
   ],
   "source": [
    "arr_filtered = arr[arr > 2]\n",
    "arr_filtered"
   ]
  },
  {
   "cell_type": "markdown",
   "id": "47822eda",
   "metadata": {},
   "source": [
    "### Summary Operations\n"
   ]
  },
  {
   "cell_type": "code",
   "execution_count": 14,
   "id": "3732ccbd",
   "metadata": {},
   "outputs": [],
   "source": [
    "min_value = arr.min()    # Minimum value\n",
    "max_value = arr.max()    # Maximum value\n",
    "sum_value = arr.sum()    # Sum of all elements\n",
    "mean_value = arr.mean()  # Mean (average) value\n",
    "std_deviation = arr.std()  # Standard deviation"
   ]
  }
 ],
 "metadata": {
  "kernelspec": {
   "display_name": "myenv",
   "language": "python",
   "name": "python3"
  },
  "language_info": {
   "codemirror_mode": {
    "name": "ipython",
    "version": 3
   },
   "file_extension": ".py",
   "mimetype": "text/x-python",
   "name": "python",
   "nbconvert_exporter": "python",
   "pygments_lexer": "ipython3",
   "version": "3.10.12"
  }
 },
 "nbformat": 4,
 "nbformat_minor": 5
}
