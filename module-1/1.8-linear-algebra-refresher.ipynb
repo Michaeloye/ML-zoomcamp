{
 "cells": [
  {
   "cell_type": "markdown",
   "id": "c48d160b",
   "metadata": {},
   "source": [
    "## Linear Algebra Refresher"
   ]
  },
  {
   "cell_type": "markdown",
   "id": "09c36ab4",
   "metadata": {},
   "source": [
    "### Vector operations\n"
   ]
  },
  {
   "cell_type": "code",
   "execution_count": 2,
   "id": "4f47526a",
   "metadata": {},
   "outputs": [
    {
     "data": {
      "text/plain": [
       "array([ 4, 14, 10, 12])"
      ]
     },
     "execution_count": 2,
     "metadata": {},
     "output_type": "execute_result"
    }
   ],
   "source": [
    "import numpy as np\n",
    "\n",
    "u = np.array([2, 7, 5, 6])\n",
    "v = np.array([3, 4, 8, 6])\n",
    "\n",
    "u + v\n",
    "\n",
    "u - v\n",
    "\n",
    "2 * u"
   ]
  },
  {
   "cell_type": "markdown",
   "id": "02601720",
   "metadata": {},
   "source": [
    "### Multiplication"
   ]
  },
  {
   "cell_type": "markdown",
   "id": "2859e8ff",
   "metadata": {},
   "source": [
    "#### Vector-vector multiplication\n"
   ]
  },
  {
   "cell_type": "code",
   "execution_count": null,
   "id": "a9191b1a",
   "metadata": {},
   "outputs": [
    {
     "data": {
      "text/plain": [
       "(2, 3)"
      ]
     },
     "execution_count": 14,
     "metadata": {},
     "output_type": "execute_result"
    }
   ],
   "source": [
    "def vector_vector_multiplication(u, v):\n",
    "  assert u.shape[0] == v.shape[0]\n",
    "\n",
    "  n = u.shape[0]\n",
    "\n",
    "  result = 0.0\n",
    "\n",
    "  for i in range(n):\n",
    "    result += u[i] * v[i]\n",
    "\n",
    "  return result\n",
    "\n",
    "vector_vector_multiplication(np.array([1,2,3]), np.array([1,2,3]))"
   ]
  },
  {
   "cell_type": "markdown",
   "id": "6be6d07c",
   "metadata": {},
   "source": [
    "#### Matrix-vector multiplication\n"
   ]
  },
  {
   "cell_type": "code",
   "execution_count": 22,
   "id": "61864e03",
   "metadata": {},
   "outputs": [
    {
     "data": {
      "text/plain": [
       "np.float64(32.0)"
      ]
     },
     "execution_count": 22,
     "metadata": {},
     "output_type": "execute_result"
    }
   ],
   "source": [
    "def matrix_vector_multiplication(U, v):\n",
    "  assert U.shape[1] == v.shape[0]\n",
    "\n",
    "  n = U.shape[0]\n",
    "\n",
    "  result = np.zeros(n)\n",
    "\n",
    "  for i in range(n):\n",
    "    ans = vector_vector_multiplication(U[i], v)\n",
    "    result[i] = ans\n",
    "  return ans\n",
    "\n",
    "matrix_vector_multiplication(np.array([[1,2,3], [4,5,6]]), np.array([1,2,3]))"
   ]
  },
  {
   "cell_type": "markdown",
   "id": "7e442681",
   "metadata": {},
   "source": [
    "#### Matrix-matrix multiplication"
   ]
  },
  {
   "cell_type": "code",
   "execution_count": 23,
   "id": "7f138f31",
   "metadata": {},
   "outputs": [
    {
     "data": {
      "text/plain": [
       "array([[24., 33., 42.],\n",
       "       [24., 33., 42.]])"
      ]
     },
     "execution_count": 23,
     "metadata": {},
     "output_type": "execute_result"
    }
   ],
   "source": [
    "def matrix_matrix_multiplication(U, V):\n",
    "  assert U.shape[1] == V.shape[0]\n",
    "\n",
    "  num_rows = U.shape[0]\n",
    "  num_cols = V.shape[1]\n",
    "\n",
    "  result = np.zeros((num_rows, num_cols))\n",
    "\n",
    "  for i in range(num_cols):\n",
    "    vi = V[:, i]\n",
    "    Uvi = matrix_vector_multiplication(U, vi)\n",
    "    result[:, i] = Uvi\n",
    "\n",
    "  return result\n",
    "\n",
    "matrix_matrix_multiplication(np.array([[1,2], [4,5]]), np.array([[1,2,3], [4,5,6]]))"
   ]
  },
  {
   "cell_type": "markdown",
   "id": "90201f62",
   "metadata": {},
   "source": [
    "### Identity matrix\n"
   ]
  },
  {
   "cell_type": "code",
   "execution_count": null,
   "id": "e9a423bf",
   "metadata": {},
   "outputs": [
    {
     "data": {
      "text/plain": [
       "array([[1., 0., 0.],\n",
       "       [0., 1., 0.],\n",
       "       [0., 0., 1.]])"
      ]
     },
     "execution_count": 25,
     "metadata": {},
     "output_type": "execute_result"
    }
   ],
   "source": [
    "I = np.eye(3)"
   ]
  },
  {
   "cell_type": "markdown",
   "id": "366859d0",
   "metadata": {},
   "source": [
    "### Inverse"
   ]
  },
  {
   "cell_type": "code",
   "execution_count": null,
   "id": "57934f48",
   "metadata": {},
   "outputs": [
    {
     "data": {
      "text/plain": [
       "array([[ 1.        , -2.        ,  0.        ],\n",
       "       [ 0.        , -0.66666667,  0.66666667],\n",
       "       [ 0.        ,  1.33333333, -0.33333333]])"
      ]
     },
     "execution_count": 28,
     "metadata": {},
     "output_type": "execute_result"
    }
   ],
   "source": [
    "V = np.array([\n",
    "    [1, 1, 2],\n",
    "    [0, 0.5, 1], \n",
    "    [0, 2, 1],\n",
    "])\n",
    "\n",
    "inv = np.linalg.inv(V)"
   ]
  }
 ],
 "metadata": {
  "kernelspec": {
   "display_name": "myenv",
   "language": "python",
   "name": "python3"
  },
  "language_info": {
   "codemirror_mode": {
    "name": "ipython",
    "version": 3
   },
   "file_extension": ".py",
   "mimetype": "text/x-python",
   "name": "python",
   "nbconvert_exporter": "python",
   "pygments_lexer": "ipython3",
   "version": "3.10.12"
  }
 },
 "nbformat": 4,
 "nbformat_minor": 5
}
